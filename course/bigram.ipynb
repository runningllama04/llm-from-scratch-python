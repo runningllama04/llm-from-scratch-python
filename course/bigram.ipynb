{
 "cells": [
  {
   "cell_type": "code",
   "execution_count": 7,
   "metadata": {},
   "outputs": [
    {
     "name": "stdout",
     "output_type": "stream",
     "text": [
      "cpu\n"
     ]
    }
   ],
   "source": [
    "import torch\n",
    "import torch.nn as nn\n",
    "from torch.nn import functional as F\n",
    "device = 'cuda' if torch.cuda.is_available() else 'cpu'\n",
    "print(device)\n",
    "block_size = 8\n",
    "batch_size = 4\n",
    "max_iters = 1000\n",
    "learning_rate = 3e-4\n"
   ]
  },
  {
   "cell_type": "code",
   "execution_count": 8,
   "metadata": {},
   "outputs": [
    {
     "name": "stdout",
     "output_type": "stream",
     "text": [
      "['\\n', ' ', '!', '\"', '#', '&', \"'\", '(', ')', ',', '-', '.', '0', '1', '2', '3', '4', '5', '6', '7', '8', '9', ':', ';', '?', 'A', 'B', 'C', 'D', 'E', 'F', 'G', 'H', 'I', 'J', 'K', 'L', 'M', 'N', 'O', 'P', 'Q', 'R', 'S', 'T', 'U', 'V', 'W', 'X', 'Y', '[', ']', '`', 'a', 'b', 'c', 'd', 'e', 'f', 'g', 'h', 'i', 'j', 'k', 'l', 'm', 'n', 'o', 'p', 'q', 'r', 's', 't', 'u', 'v', 'w', 'x', 'y', 'z']\n",
      "79\n"
     ]
    }
   ],
   "source": [
    "with open('Gita.txt','r', encoding='utf-8') as f:\n",
    "    text = f.read()\n",
    "    \n",
    "chars = sorted(set(text))\n",
    "print(chars)\n",
    "vocublary_size = len(chars)\n",
    "print(vocublary_size)\n",
    "\n"
   ]
  },
  {
   "cell_type": "code",
   "execution_count": 9,
   "metadata": {},
   "outputs": [
    {
     "name": "stdout",
     "output_type": "stream",
     "text": [
      "tensor([ 0,  0, 28, 57, 56, 61, 55, 53, 72, 61, 67, 66,  0,  0, 44, 39,  1, 33,\n",
      "        38, 28, 33, 25,  0,  0, 43, 67,  1, 60, 53, 74, 57,  1, 33,  1, 70, 57,\n",
      "        53, 56,  1, 72, 60, 61, 71,  1, 75, 67, 66, 56, 57, 70, 58, 73, 64,  1,\n",
      "        53, 66, 56,  1, 71, 68, 61, 70, 61, 72, 10, 72, 60, 70, 61, 64, 64, 61,\n",
      "        66, 59,  1, 71, 68, 57, 57, 55, 60,  9,  0, 26, 77,  1, 35, 70, 61, 71,\n",
      "        60, 66, 53,  1, 53, 66, 56,  1, 40, 70])\n"
     ]
    }
   ],
   "source": [
    "string_to_int = {ch:i for i, ch in enumerate(chars)}\n",
    "int_to_string = {i:ch for i, ch in enumerate(chars)}\n",
    "\n",
    "encode = lambda s:[string_to_int[c] for c in s]\n",
    "decode = lambda l: ''.join([int_to_string[i] for i in l])\n",
    "\n",
    "data = torch.tensor(encode(text),dtype=torch.long)\n",
    "print(data[:100])"
   ]
  },
  {
   "cell_type": "code",
   "execution_count": 10,
   "metadata": {},
   "outputs": [
    {
     "name": "stdout",
     "output_type": "stream",
     "text": [
      "inputs:\n",
      "tensor([[ 9,  0,  1,  1, 44, 60, 67, 73],\n",
      "        [10, 72, 60, 67, 73,  1, 54, 57],\n",
      "        [75, 61, 72, 60, 61, 66,  0,  0],\n",
      "        [57, 65, 54, 64, 53, 66, 55, 57]])\n",
      "targets:\n",
      "tensor([[ 0,  1,  1, 44, 60, 67, 73,  1],\n",
      "        [72, 60, 67, 73,  1, 54, 57, 71],\n",
      "        [61, 72, 60, 61, 66,  0,  0,  1],\n",
      "        [65, 54, 64, 53, 66, 55, 57, 71]])\n"
     ]
    }
   ],
   "source": [
    "n = int(0.8*len(data))\n",
    "\n",
    "train_data = data[:n]\n",
    "val_data = data[n:]\n",
    "def get_batch(split):\n",
    "    data = train_data if split == 'train' else val_data\n",
    "    ix = torch.randint(len(data) - block_size, (batch_size,))\n",
    "    x = torch.stack([data[i:i+block_size] for i in ix])\n",
    "    y = torch.stack([data[i+1:i+block_size+1] for i in ix])\n",
    "    x, y = x.to(device), y.to(device)\n",
    "    return x, y\n",
    "\n",
    "x, y = get_batch('train')\n",
    "print('inputs:')\n",
    "# print(x.shape)\n",
    "print(x)\n",
    "print('targets:')\n",
    "print(y)"
   ]
  },
  {
   "cell_type": "code",
   "execution_count": 11,
   "metadata": {},
   "outputs": [
    {
     "name": "stdout",
     "output_type": "stream",
     "text": [
      "when input is tensor([0]) target is tensor(0)\n",
      "when input is tensor([0, 0]) target is tensor(28)\n",
      "when input is tensor([ 0,  0, 28]) target is tensor(57)\n",
      "when input is tensor([ 0,  0, 28, 57]) target is tensor(56)\n",
      "when input is tensor([ 0,  0, 28, 57, 56]) target is tensor(61)\n",
      "when input is tensor([ 0,  0, 28, 57, 56, 61]) target is tensor(55)\n",
      "when input is tensor([ 0,  0, 28, 57, 56, 61, 55]) target is tensor(53)\n",
      "when input is tensor([ 0,  0, 28, 57, 56, 61, 55, 53]) target is tensor(72)\n"
     ]
    }
   ],
   "source": [
    "block_size = 8\n",
    "\n",
    "x = train_data[:block_size]\n",
    "y = train_data[1:block_size+1]\n",
    "\n",
    "for t in range(block_size):\n",
    "    context = x[:t+1]\n",
    "    target = y[t]\n",
    "    print('when input is', context, 'target is', target)"
   ]
  },
  {
   "cell_type": "code",
   "execution_count": 12,
   "metadata": {},
   "outputs": [
    {
     "name": "stdout",
     "output_type": "stream",
     "text": [
      "\n",
      "(-ekRe!7UPBV5t`!Kcg \n",
      "`D'0d,NT\n",
      "f5F]sp.zClcJ\"Yv xj0v wi.ko.IY63HpJb?f7lhUX-8PiXG\"D5tbYr1`\n",
      ",UimC-0qkIA-&iK[e9X&n(Lfx`]&pX.3rth2NvtUrBE[\n",
      "n44K R]b ?mc?fGU]vS`X\n",
      "I6v'&)08TJYr!63obB)QVS]!tQ)[4N'6d(caI]&1(Wge1D&CtP6mm8J&xi1`KcrnvDnI)v7!qV\"rL(\"FRsaIFUQffwg3ahkcod\"L#fawA)VWjWejb0i6YvOQVff'\"YL2.)1iO3DQKR`zaI;'01zjLRu- Iok-cEI;41ozGkM!1q08j;I8uct,!mQz?)\"Ov m`sWIP03nm)i9'fB)g`eA?SVCID;'P;`QKcpk\"5bn8dl5zk1`lkCE?Xkctfu3(WIiSi[qQXXg9qlzDzoF-a#fS'`7H?'x[6Nm)88KzI7&RznkRwA-56m-;WyFPtb:xgHzP\n",
      "nEX-5\"WYLB9[;yn]2I]UJtb\n"
     ]
    }
   ],
   "source": [
    "class BigramLanguageModel(nn.Module):\n",
    "    def __init__(self, vocublary_size):\n",
    "        super().__init__()\n",
    "        self.token_embedding_table = nn.Embedding(vocublary_size, vocublary_size)\n",
    "        \n",
    "    def forward(self, index, targets=None):\n",
    "        logits = self.token_embedding_table(index)\n",
    "        \n",
    "        \n",
    "        if targets is None:\n",
    "            loss = None\n",
    "        else:\n",
    "            B, T, C = logits.shape\n",
    "            logits = logits.view(B*T, C)\n",
    "            targets = targets.view(B*T)\n",
    "            loss = F.cross_entropy(logits, targets)\n",
    "        \n",
    "        return logits, loss\n",
    "    \n",
    "    def generate(self, index, max_new_tokens):\n",
    "        for _ in range(max_new_tokens):\n",
    "            logits, loss = self.forward(index)\n",
    "            logits = logits[:, -1, :] \n",
    "            probs = F.softmax(logits, dim=-1) \n",
    "            index_next = torch.multinomial(probs, num_samples=1) \n",
    "            index = torch.cat((index, index_next), dim=1) \n",
    "        return index\n",
    "\n",
    "model = BigramLanguageModel(vocublary_size)\n",
    "m = model.to(device)\n",
    "\n",
    "context = torch.zeros((1,1), dtype=torch.long, device=device)\n",
    "generated_chars = decode(m.generate(context, max_new_tokens=500)[0].tolist())\n",
    "print(generated_chars)"
   ]
  },
  {
   "cell_type": "code",
   "execution_count": 13,
   "metadata": {},
   "outputs": [
    {
     "name": "stdout",
     "output_type": "stream",
     "text": [
      "4.963321685791016\n"
     ]
    }
   ],
   "source": [
    "optimizer = torch.optim.AdamW(model.parameters(), lr=learning_rate)\n",
    "\n",
    "for iter in range(max_iters):\n",
    "\n",
    "    xb, yb = get_batch('train')\n",
    "    logits, loss = model.forward(xb, yb)\n",
    "    optimizer.zero_grad(set_to_none=True)\n",
    "    loss.backward()\n",
    "    optimizer.step()\n",
    "\n",
    "print(loss.item())"
   ]
  }
 ],
 "metadata": {
  "kernelspec": {
   "display_name": "cuda",
   "language": "python",
   "name": "python3"
  },
  "language_info": {
   "codemirror_mode": {
    "name": "ipython",
    "version": 3
   },
   "file_extension": ".py",
   "mimetype": "text/x-python",
   "name": "python",
   "nbconvert_exporter": "python",
   "pygments_lexer": "ipython3",
   "version": "3.11.2"
  }
 },
 "nbformat": 4,
 "nbformat_minor": 2
}
